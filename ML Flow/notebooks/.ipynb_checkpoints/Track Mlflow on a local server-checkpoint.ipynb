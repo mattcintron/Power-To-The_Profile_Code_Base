{
 "cells": [
  {
   "cell_type": "markdown",
   "metadata": {},
   "source": [
    "## Using ML Flow on a Target Server\n",
    "once we have built out a server for ML flow local or otherwise we need to be able to point our data at it \n",
    "in order to allow it to track the expirments we are currently working on \n",
    "\n",
    "start by making sure you have what you need installed"
   ]
  },
  {
   "cell_type": "code",
   "execution_count": 1,
   "metadata": {},
   "outputs": [],
   "source": [
    "!pip install mlflow"
   ]
  },
  {
   "cell_type": "markdown",
   "metadata": {},
   "source": [
    "## Track some gerneal data \n",
    "next lets build out some abritrary tracking to make sure we have a functional conection to the server "
   ]
  },
  {
   "cell_type": "code",
   "execution_count": 1,
   "metadata": {},
   "outputs": [],
   "source": [
    "# first import the ML flow lib\n",
    "import mlflow"
   ]
  },
  {
   "cell_type": "code",
   "execution_count": 29,
   "metadata": {},
   "outputs": [
    {
     "name": "stdout",
     "output_type": "stream",
     "text": [
      "[2021-12-13 15:16:42 -0500] [32659] [INFO] Starting gunicorn 20.1.0\n",
      "[2021-12-13 15:16:42 -0500] [32659] [INFO] Listening at: http://127.0.0.1:5000 (32659)\n",
      "[2021-12-13 15:16:42 -0500] [32659] [INFO] Using worker: sync\n",
      "[2021-12-13 15:16:42 -0500] [32662] [INFO] Booting worker with pid: 32662\n",
      "[2021-12-13 15:16:43 -0500] [32664] [INFO] Booting worker with pid: 32664\n",
      "[2021-12-13 15:16:43 -0500] [32665] [INFO] Booting worker with pid: 32665\n",
      "[2021-12-13 15:16:43 -0500] [32666] [INFO] Booting worker with pid: 32666\n",
      "^C\n",
      "[2021-12-13 15:17:53 -0500] [32659] [INFO] Handling signal: int\n",
      "[2021-12-13 15:17:53 -0500] [32666] [INFO] Worker exiting (pid: 32666)\n",
      "[2021-12-13 15:17:53 -0500] [32665] [INFO] Worker exiting (pid: 32665)\n",
      "[2021-12-13 15:17:53 -0500] [32664] [INFO] Worker exiting (pid: 32664)\n",
      "[2021-12-13 15:17:53 -0500] [32662] [INFO] Worker exiting (pid: 32662)\n"
     ]
    }
   ],
   "source": [
    "#!mlflow server"
   ]
  },
  {
   "cell_type": "code",
   "execution_count": 1,
   "metadata": {},
   "outputs": [
    {
     "name": "stdout",
     "output_type": "stream",
     "text": [
      "env: MLFLOW_TRACKING_URI=http://localhost:5000\n"
     ]
    }
   ],
   "source": [
    "#set the tracking UI for ML flow - \n",
    "#%env var=$val\n",
    "#%env MLFLOW_TRACKING_URI = http://localhost:5000"
   ]
  },
  {
   "cell_type": "code",
   "execution_count": 2,
   "metadata": {},
   "outputs": [],
   "source": [
    "#set the tracking UI for ML flow - \n",
    "mlflow.set_tracking_uri('http://localhost:5000')"
   ]
  },
  {
   "cell_type": "markdown",
   "metadata": {},
   "source": [
    "### Note:\n",
    "if you hit a proxy error make sure you clear all proxies from your bash first "
   ]
  },
  {
   "cell_type": "code",
   "execution_count": 3,
   "metadata": {},
   "outputs": [
    {
     "name": "stdout",
     "output_type": "stream",
     "text": [
      "RAN expirments\n"
     ]
    }
   ],
   "source": [
    "# start ml flow and set starting run params\n",
    "with mlflow.start_run(run_name=\"MLflow Tracking Test\"):\n",
    "  mlflow.log_metric(\"m1\", 7.0)\n",
    "  mlflow.log_param(\"p1\", \"mlflow-tracking-test\")\n",
    "\n",
    "# # run tracking UI in the background\n",
    "# get_ipython().system_raw(\"mlflow ui --port 5000 &\")\n",
    "\n",
    "print('RAN expirments')"
   ]
  },
  {
   "cell_type": "code",
   "execution_count": null,
   "metadata": {},
   "outputs": [],
   "source": []
  }
 ],
 "metadata": {
  "kernelspec": {
   "display_name": "Python 3",
   "language": "python",
   "name": "python3"
  },
  "language_info": {
   "codemirror_mode": {
    "name": "ipython",
    "version": 3
   },
   "file_extension": ".py",
   "mimetype": "text/x-python",
   "name": "python",
   "nbconvert_exporter": "python",
   "pygments_lexer": "ipython3",
   "version": "3.7.6"
  }
 },
 "nbformat": 4,
 "nbformat_minor": 4
}
