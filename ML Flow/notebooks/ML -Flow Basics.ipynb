{
 "cells": [
  {
   "cell_type": "markdown",
   "metadata": {},
   "source": [
    "## ML Flow Basics\n",
    "this notebook goes over some fundemental basics of installing and using ML-Flow tracking \n",
    "source -\n",
    "<br>\n",
    "<br>\n",
    "https://towardsdatascience.com/deploy-mlflow-with-docker-compose-8059f16b6039"
   ]
  },
  {
   "cell_type": "code",
   "execution_count": 1,
   "metadata": {},
   "outputs": [
    {
     "name": "stdout",
     "output_type": "stream",
     "text": [
      "Requirement already satisfied: mlflow in /opt/anaconda3/lib/python3.7/site-packages (1.22.0)\n",
      "Requirement already satisfied: pandas in /opt/anaconda3/lib/python3.7/site-packages (from mlflow) (1.0.5)\n",
      "Requirement already satisfied: sqlalchemy in /opt/anaconda3/lib/python3.7/site-packages (from mlflow) (1.3.13)\n",
      "Requirement already satisfied: Flask in /opt/anaconda3/lib/python3.7/site-packages (from mlflow) (1.1.1)\n",
      "Requirement already satisfied: importlib-metadata!=4.7.0,>=3.7.0 in /opt/anaconda3/lib/python3.7/site-packages (from mlflow) (4.8.2)\n",
      "Requirement already satisfied: docker>=4.0.0 in /opt/anaconda3/lib/python3.7/site-packages (from mlflow) (5.0.3)\n",
      "Requirement already satisfied: packaging in /opt/anaconda3/lib/python3.7/site-packages (from mlflow) (20.1)\n",
      "Requirement already satisfied: querystring-parser in /opt/anaconda3/lib/python3.7/site-packages (from mlflow) (1.2.4)\n",
      "Requirement already satisfied: gunicorn; platform_system != \"Windows\" in /opt/anaconda3/lib/python3.7/site-packages (from mlflow) (20.1.0)\n",
      "Requirement already satisfied: cloudpickle in /opt/anaconda3/lib/python3.7/site-packages (from mlflow) (1.3.0)\n",
      "Requirement already satisfied: pyyaml>=5.1 in /opt/anaconda3/lib/python3.7/site-packages (from mlflow) (5.3)\n",
      "Requirement already satisfied: entrypoints in /opt/anaconda3/lib/python3.7/site-packages (from mlflow) (0.3)\n",
      "Requirement already satisfied: alembic<=1.4.1 in /opt/anaconda3/lib/python3.7/site-packages (from mlflow) (1.4.1)\n",
      "Requirement already satisfied: prometheus-flask-exporter in /opt/anaconda3/lib/python3.7/site-packages (from mlflow) (0.18.6)\n",
      "Requirement already satisfied: numpy in /opt/anaconda3/lib/python3.7/site-packages (from mlflow) (1.19.5)\n",
      "Requirement already satisfied: requests>=2.17.3 in /opt/anaconda3/lib/python3.7/site-packages (from mlflow) (2.24.0)\n",
      "Requirement already satisfied: click>=7.0 in /opt/anaconda3/lib/python3.7/site-packages (from mlflow) (7.0)\n",
      "Requirement already satisfied: pytz in /opt/anaconda3/lib/python3.7/site-packages (from mlflow) (2019.3)\n",
      "Requirement already satisfied: gitpython>=2.1.0 in /opt/anaconda3/lib/python3.7/site-packages (from mlflow) (3.1.14)\n",
      "Requirement already satisfied: databricks-cli>=0.8.7 in /opt/anaconda3/lib/python3.7/site-packages (from mlflow) (0.16.2)\n",
      "Requirement already satisfied: sqlparse>=0.3.1 in /opt/anaconda3/lib/python3.7/site-packages (from mlflow) (0.4.2)\n",
      "Requirement already satisfied: protobuf>=3.7.0 in /opt/anaconda3/lib/python3.7/site-packages (from mlflow) (3.13.0)\n",
      "Requirement already satisfied: python-dateutil>=2.6.1 in /opt/anaconda3/lib/python3.7/site-packages (from pandas->mlflow) (2.8.1)\n",
      "Requirement already satisfied: Werkzeug>=0.15 in /opt/anaconda3/lib/python3.7/site-packages (from Flask->mlflow) (1.0.0)\n",
      "Requirement already satisfied: itsdangerous>=0.24 in /opt/anaconda3/lib/python3.7/site-packages (from Flask->mlflow) (1.1.0)\n",
      "Requirement already satisfied: Jinja2>=2.10.1 in /opt/anaconda3/lib/python3.7/site-packages (from Flask->mlflow) (2.11.1)\n",
      "Requirement already satisfied: typing-extensions>=3.6.4; python_version < \"3.8\" in /opt/anaconda3/lib/python3.7/site-packages (from importlib-metadata!=4.7.0,>=3.7.0->mlflow) (3.7.4.3)\n",
      "Requirement already satisfied: zipp>=0.5 in /opt/anaconda3/lib/python3.7/site-packages (from importlib-metadata!=4.7.0,>=3.7.0->mlflow) (3.4.1)\n",
      "Requirement already satisfied: websocket-client>=0.32.0 in /opt/anaconda3/lib/python3.7/site-packages (from docker>=4.0.0->mlflow) (1.2.3)\n",
      "Requirement already satisfied: six in /opt/anaconda3/lib/python3.7/site-packages (from packaging->mlflow) (1.15.0)\n",
      "Requirement already satisfied: pyparsing>=2.0.2 in /opt/anaconda3/lib/python3.7/site-packages (from packaging->mlflow) (3.0.6)\n",
      "Requirement already satisfied: setuptools>=3.0 in /opt/anaconda3/lib/python3.7/site-packages (from gunicorn; platform_system != \"Windows\"->mlflow) (46.0.0.post20200309)\n",
      "Requirement already satisfied: python-editor>=0.3 in /opt/anaconda3/lib/python3.7/site-packages (from alembic<=1.4.1->mlflow) (1.0.4)\n",
      "Requirement already satisfied: Mako in /opt/anaconda3/lib/python3.7/site-packages (from alembic<=1.4.1->mlflow) (1.1.6)\n",
      "Requirement already satisfied: prometheus-client in /opt/anaconda3/lib/python3.7/site-packages (from prometheus-flask-exporter->mlflow) (0.7.1)\n",
      "Requirement already satisfied: chardet<4,>=3.0.2 in /opt/anaconda3/lib/python3.7/site-packages (from requests>=2.17.3->mlflow) (3.0.4)\n",
      "Requirement already satisfied: certifi>=2017.4.17 in /opt/anaconda3/lib/python3.7/site-packages (from requests>=2.17.3->mlflow) (2019.11.28)\n",
      "Requirement already satisfied: urllib3!=1.25.0,!=1.25.1,<1.26,>=1.21.1 in /opt/anaconda3/lib/python3.7/site-packages (from requests>=2.17.3->mlflow) (1.25.8)\n",
      "Requirement already satisfied: idna<3,>=2.5 in /opt/anaconda3/lib/python3.7/site-packages (from requests>=2.17.3->mlflow) (2.8)\n",
      "Requirement already satisfied: gitdb<5,>=4.0.1 in /opt/anaconda3/lib/python3.7/site-packages (from gitpython>=2.1.0->mlflow) (4.0.7)\n",
      "Requirement already satisfied: tabulate>=0.7.7 in /opt/anaconda3/lib/python3.7/site-packages (from databricks-cli>=0.8.7->mlflow) (0.8.9)\n",
      "Requirement already satisfied: MarkupSafe>=0.23 in /opt/anaconda3/lib/python3.7/site-packages (from Jinja2>=2.10.1->Flask->mlflow) (1.1.1)\n",
      "Requirement already satisfied: smmap<5,>=3.0.1 in /opt/anaconda3/lib/python3.7/site-packages (from gitdb<5,>=4.0.1->gitpython>=2.1.0->mlflow) (4.0.0)\n",
      "Note: you may need to restart the kernel to use updated packages.\n"
     ]
    }
   ],
   "source": [
    "#first install ML flow \n",
    "%pip install mlflow"
   ]
  },
  {
   "cell_type": "markdown",
   "metadata": {},
   "source": [
    "### Serve it up\n",
    "now we can test out a serve call to get the mlflow server hosted"
   ]
  },
  {
   "cell_type": "code",
   "execution_count": 1,
   "metadata": {},
   "outputs": [
    {
     "name": "stdout",
     "output_type": "stream",
     "text": [
      "[2021-12-13 15:25:22 -0500] [33092] [INFO] Starting gunicorn 20.1.0\n",
      "[2021-12-13 15:25:22 -0500] [33092] [INFO] Listening at: http://127.0.0.1:5000 (33092)\n",
      "[2021-12-13 15:25:22 -0500] [33092] [INFO] Using worker: sync\n",
      "[2021-12-13 15:25:22 -0500] [33095] [INFO] Booting worker with pid: 33095\n",
      "[2021-12-13 15:25:23 -0500] [33096] [INFO] Booting worker with pid: 33096\n",
      "[2021-12-13 15:25:23 -0500] [33097] [INFO] Booting worker with pid: 33097\n",
      "[2021-12-13 15:25:23 -0500] [33098] [INFO] Booting worker with pid: 33098\n",
      "^C\n",
      "[2021-12-13 15:31:29 -0500] [33092] [INFO] Handling signal: int\n",
      "[2021-12-13 15:31:29 -0500] [33095] [INFO] Worker exiting (pid: 33095)\n",
      "[2021-12-13 15:31:29 -0500] [33096] [INFO] Worker exiting (pid: 33096)\n",
      "[2021-12-13 15:31:29 -0500] [33097] [INFO] Worker exiting (pid: 33097)\n",
      "[2021-12-13 15:31:29 -0500] [33098] [INFO] Worker exiting (pid: 33098)\n"
     ]
    }
   ],
   "source": [
    "\n",
    "!mlflow server"
   ]
  },
  {
   "cell_type": "markdown",
   "metadata": {},
   "source": [
    "### Hosting Options\n",
    "From this very basic first step, our MLflow tracking server is ready to use, all that remains is launching it with the command:\n",
    "\n",
    "We can also specify the host address that tells the server to listen on all public IPs. Although it is a very unsecure approach (the server is unauthenticated and unencrypted), we will further need to run the server behing a reverse proxy such as NGINX or in a virtual private network to control the accesses."
   ]
  },
  {
   "cell_type": "code",
   "execution_count": 14,
   "metadata": {},
   "outputs": [
    {
     "name": "stdout",
     "output_type": "stream",
     "text": [
      "[2021-12-10 17:54:37 -0500] [42979] [INFO] Starting gunicorn 20.1.0\n",
      "[2021-12-10 17:54:37 -0500] [42979] [INFO] Listening at: http://127.0.0.1:5000 (42979)\n",
      "[2021-12-10 17:54:37 -0500] [42979] [INFO] Using worker: sync\n",
      "[2021-12-10 17:54:37 -0500] [42982] [INFO] Booting worker with pid: 42982\n",
      "[2021-12-10 17:54:37 -0500] [42983] [INFO] Booting worker with pid: 42983\n",
      "^C\n",
      "[2021-12-10 17:54:55 -0500] [42979] [INFO] Handling signal: int\n",
      "[2021-12-10 17:54:55 -0500] [42983] [INFO] Worker exiting (pid: 42983)\n",
      "[2021-12-10 17:54:55 -0500] [42982] [INFO] Worker exiting (pid: 42982)\n"
     ]
    }
   ],
   "source": [
    "#!mlflow server — host 0.0.0.0\n",
    "!mlflow server --host 0.0.0.0 --port 5000 --workers 2 --artifacts-destination /mlflow"
   ]
  },
  {
   "cell_type": "code",
   "execution_count": null,
   "metadata": {},
   "outputs": [],
   "source": []
  }
 ],
 "metadata": {
  "kernelspec": {
   "display_name": "Python 3",
   "language": "python",
   "name": "python3"
  },
  "language_info": {
   "codemirror_mode": {
    "name": "ipython",
    "version": 3
   },
   "file_extension": ".py",
   "mimetype": "text/x-python",
   "name": "python",
   "nbconvert_exporter": "python",
   "pygments_lexer": "ipython3",
   "version": "3.7.6"
  }
 },
 "nbformat": 4,
 "nbformat_minor": 4
}
